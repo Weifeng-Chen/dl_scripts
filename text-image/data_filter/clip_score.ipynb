{
 "cells": [
  {
   "cell_type": "code",
   "execution_count": 5,
   "metadata": {},
   "outputs": [],
   "source": [
    "import open_clip\n",
    "import torch\n",
    "from transformers import BertModel, BertTokenizer\n",
    "class CLIP_Score:\n",
    "    def __init__(\n",
    "                    self, \n",
    "                    clip_model_path=\"IDEA-CCNL/Taiyi-CLIP-RoBERTa-102M-ViT-L-Chinese\",\n",
    "                ):\n",
    "        self.text_encoder, self.text_tokenizer, self.clip_model, self.processor = self.load_clip_model(clip_model_path)\n",
    "    \n",
    "    def load_clip_model(self, model_path=\"IDEA-CCNL/Taiyi-CLIP-RoBERTa-102M-ViT-L-Chinese\"):\n",
    "        text_encoder = BertModel.from_pretrained(model_path).eval().cuda()\n",
    "        text_tokenizer = BertTokenizer.from_pretrained(model_path)\n",
    "        clip_model, _, processor = open_clip.create_model_and_transforms('ViT-L-14', pretrained='openai')\n",
    "        clip_model = clip_model.eval().cuda()\n",
    "        return text_encoder, text_tokenizer, clip_model, processor\n",
    "\n",
    "\n",
    "    def get_image_feature(self, images):\n",
    "        # 此处返回图像的特征向量\n",
    "        images = torch.stack([self.processor(image) for image in images]).cuda()\n",
    "        with torch.no_grad():\n",
    "            image_features = self.clip_model.encode_image(images)\n",
    "            image_features /= image_features.norm(dim=1, keepdim=True)\n",
    "        return image_features\n",
    "    \n",
    "    def get_text_feature(self, text):\n",
    "        # 此处返回文本的特征向量\n",
    "        text = self.text_tokenizer(text, return_tensors='pt', padding=True)['input_ids'].cuda()\n",
    "        with torch.no_grad():\n",
    "            text_features = self.text_encoder(text)[1]\n",
    "            text_features /= text_features.norm(dim=1, keepdim=True)\n",
    "        return text_features\n",
    "\n",
    "    def calculate_score(self, features1, features2):\n",
    "        # 此处2个特征向量的相似度，输入可以是 图片+文本、文本+文本、图片+图片。\n",
    "        # 返回的是相似度矩阵\n",
    "        score_each_pair =  features1 @ features2.t()\n",
    "        return scores"
   ]
  },
  {
   "cell_type": "code",
   "execution_count": 6,
   "metadata": {},
   "outputs": [],
   "source": [
    "demo = CLIP_Score()"
   ]
  },
  {
   "cell_type": "code",
   "execution_count": 10,
   "metadata": {},
   "outputs": [
    {
     "name": "stdout",
     "output_type": "stream",
     "text": [
      "torch.Size([2, 768]) torch.Size([1, 768])\n",
      "tensor([[-0.0492],\n",
      "        [ 0.2003]], device='cuda:0')\n",
      "[-0.04917662]\n"
     ]
    }
   ],
   "source": [
    "from PIL import Image\n",
    "\n",
    "image_path = '/cognitive_comp/chenweifeng/project/dl_scripts/text-image/data_filter/improved-aesthetic-predictor/1.jpg'\n",
    "image_path2 = '/cognitive_comp/chenweifeng/project/dl_scripts/text-image/data_filter/Asthetics/mengna.jpg'\n",
    "image_demo =  [Image.open(image_path).convert('RGB'), Image.open(image_path2).convert('RGB')]\n",
    "text_demo = ['一副很美的画','港口小船', '大海', '沙漠', '蒙娜丽莎'] # 这里也可以只有一个文本，也就是query\n",
    "\n",
    "\n",
    "image_feature = demo.get_image_feature(image_demo)  # 计算图片特征，传入图片列表，一般而言，可以在数据库保存这个东西，用于响应文本query\n",
    "text_feature = demo.get_text_feature(text_demo) # 计算文本特征，传入文本列表\n",
    "print(image_feature.shape, text_feature.shape)\n",
    "print(image_feature @ text_feature.t())\n",
    "similarity = demo.calculate_score(image_feature, text_feature)  # 计算相似度\n",
    "print(similarity)"
   ]
  }
 ],
 "metadata": {
  "kernelspec": {
   "display_name": "Python 3.9.7 ('ldm')",
   "language": "python",
   "name": "python3"
  },
  "language_info": {
   "codemirror_mode": {
    "name": "ipython",
    "version": 3
   },
   "file_extension": ".py",
   "mimetype": "text/x-python",
   "name": "python",
   "nbconvert_exporter": "python",
   "pygments_lexer": "ipython3",
   "version": "3.9.7"
  },
  "orig_nbformat": 4,
  "vscode": {
   "interpreter": {
    "hash": "f118082e6cba101b1173a601d4fa989e7255aa6236e39b2f363773e471dcdbb1"
   }
  }
 },
 "nbformat": 4,
 "nbformat_minor": 2
}
