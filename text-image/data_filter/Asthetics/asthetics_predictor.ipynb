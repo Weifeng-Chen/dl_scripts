{
 "cells": [
  {
   "cell_type": "code",
   "execution_count": 1,
   "metadata": {},
   "outputs": [],
   "source": [
    "import os\n",
    "import torch\n",
    "import torch.nn as nn\n",
    "from os.path import expanduser  # pylint: disable=import-outside-toplevel\n",
    "from urllib.request import urlretrieve  # pylint: disable=import-outside-toplevel\n",
    "def get_aesthetic_model(clip_model=\"vit_l_14\"):\n",
    "    \"\"\"load the aethetic model\"\"\"\n",
    "    cache_folder = \"./\"\n",
    "    path_to_model = cache_folder + \"/sa_0_4_\"+clip_model+\"_linear.pth\"\n",
    "    if not os.path.exists(path_to_model):\n",
    "        os.makedirs(cache_folder, exist_ok=True)\n",
    "        url_model = (\n",
    "            \"https://github.com/LAION-AI/aesthetic-predictor/blob/main/sa_0_4_\"+clip_model+\"_linear.pth?raw=true\"\n",
    "        )\n",
    "        urlretrieve(url_model, path_to_model)\n",
    "    if clip_model == \"vit_l_14\":\n",
    "        m = nn.Linear(768, 1)\n",
    "    elif clip_model == \"vit_b_32\":\n",
    "        m = nn.Linear(512, 1)\n",
    "    else:\n",
    "        raise ValueError()\n",
    "    s = torch.load(path_to_model)\n",
    "    m.load_state_dict(s)\n",
    "    m.eval()\n",
    "    return m\n",
    "\n",
    "amodel= get_aesthetic_model(clip_model=\"vit_l_14\")\n",
    "amodel.eval()\n",
    "\n",
    "import torch\n",
    "from PIL import Image\n",
    "import open_clip\n",
    "model, _, preprocess = open_clip.create_model_and_transforms('ViT-L-14', pretrained='openai')"
   ]
  },
  {
   "cell_type": "code",
   "execution_count": 2,
   "metadata": {},
   "outputs": [
    {
     "name": "stdout",
     "output_type": "stream",
     "text": [
      "--2022-11-03 17:44:45--  https://thumbs.dreamstime.com/b/lovely-cat-as-domestic-animal-view-pictures-182393057.jpg\n",
      "Resolving thumbs.dreamstime.com (thumbs.dreamstime.com)... 192.229.144.114\n",
      "Connecting to thumbs.dreamstime.com (thumbs.dreamstime.com)|192.229.144.114|:443... ^C\n"
     ]
    }
   ],
   "source": [
    "!wget https://thumbs.dreamstime.com/b/lovely-cat-as-domestic-animal-view-pictures-182393057.jpg\n"
   ]
  },
  {
   "cell_type": "code",
   "execution_count": 12,
   "metadata": {},
   "outputs": [
    {
     "name": "stdout",
     "output_type": "stream",
     "text": [
      "tensor([[5.9903]])\n"
     ]
    }
   ],
   "source": [
    "image = preprocess(Image.open(\"/cognitive_comp/chenweifeng/project/dataset/zero23m_cwf/00000/000000002.jpg\")).unsqueeze(0)\n",
    "with torch.no_grad():\n",
    "    image_features = model.encode_image(image)\n",
    "    image_features /= image_features.norm(dim=-1, keepdim=True)\n",
    "    prediction = amodel(image_features)\n",
    "    print(prediction)"
   ]
  }
 ],
 "metadata": {
  "kernelspec": {
   "display_name": "Python 3.9.7 ('ldm')",
   "language": "python",
   "name": "python3"
  },
  "language_info": {
   "codemirror_mode": {
    "name": "ipython",
    "version": 3
   },
   "file_extension": ".py",
   "mimetype": "text/x-python",
   "name": "python",
   "nbconvert_exporter": "python",
   "pygments_lexer": "ipython3",
   "version": "3.9.7"
  },
  "orig_nbformat": 4,
  "vscode": {
   "interpreter": {
    "hash": "f118082e6cba101b1173a601d4fa989e7255aa6236e39b2f363773e471dcdbb1"
   }
  }
 },
 "nbformat": 4,
 "nbformat_minor": 2
}
