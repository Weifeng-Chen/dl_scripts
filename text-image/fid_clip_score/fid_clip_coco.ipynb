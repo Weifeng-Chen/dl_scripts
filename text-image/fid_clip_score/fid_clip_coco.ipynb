{
 "cells": [
  {
   "cell_type": "markdown",
   "metadata": {},
   "source": [
    "reference: https://wandb.ai/dalle-mini/dalle-mini/reports/CLIP-score-vs-FID-pareto-curves--VmlldzoyMDYyNTAy"
   ]
  },
  {
   "cell_type": "markdown",
   "metadata": {},
   "source": [
    "# Sampling data"
   ]
  },
  {
   "cell_type": "code",
   "execution_count": null,
   "metadata": {},
   "outputs": [],
   "source": [
    "# load data\n",
    "import json\n",
    "coco_path = '/home/tiger/project/dataset/coco'\n",
    "data_file = f'{coco_path}/annotations/captions_val2014.json'\n",
    "data = json.load(open(data_file))\n",
    "\n",
    "\n",
    "# merge images and annotations\n",
    "import pandas as pd\n",
    "images = data['images']\n",
    "annotations = data['annotations']\n",
    "df = pd.DataFrame(images)\n",
    "df_annotations = pd.DataFrame(annotations)\n",
    "df = df.merge(pd.DataFrame(annotations), how='left', left_on='id', right_on='image_id')\n",
    "\n",
    "\n",
    "# keep only the relevant columns\n",
    "df = df[['file_name', 'caption']]\n",
    "\n",
    "\n",
    "# shuffle the dataset\n",
    "df = df.sample(frac=1)\n",
    "\n",
    "\n",
    "# remove duplicate images\n",
    "df = df.drop_duplicates(subset='file_name')\n",
    "\n",
    "\n",
    "# create a random subset\n",
    "n_samples = 10000\n",
    "df_sample = df.sample(n_samples)\n",
    "\n",
    "\n",
    "# save the sample to a parquet file\n",
    "df_sample.to_parquet(f'{coco_path}/subset.parquet')\n",
    "\n",
    "\n",
    "# copy the images to reference folder\n",
    "from pathlib import Path\n",
    "import shutil\n",
    "subset_path = Path(f'{coco_path}/subset')\n",
    "subset_path.mkdir(exist_ok=True)\n",
    "for i, row in df_sample.iterrows():\n",
    "    path = f'{coco_path}/val2014/' + row['file_name']\n",
    "    shutil.copy(path, f'{coco_path}/subset/')\n"
   ]
  },
  {
   "cell_type": "code",
   "execution_count": null,
   "metadata": {},
   "outputs": [],
   "source": [
    "# center crop the images\n",
    "def center_crop_images(folder, output_folder, size):\n",
    "    # coco images are not square, so we need to center crop them\n",
    "    from PIL import Image\n",
    "    import os\n",
    "    os.makedirs(output_folder, exist_ok=True)\n",
    "    for file in os.listdir(folder):\n",
    "        image_path = os.path.join(folder, file)\n",
    "        image = Image.open(image_path)\n",
    "        width, height = image.size\n",
    "        left = (width - size) / 2 if width > size else 0\n",
    "        top = (height - size) / 2 if height > size else 0\n",
    "        right = (width + size) / 2 if width > size else width\n",
    "        bottom = (height + size) / 2 if height > size else height\n",
    "        image = image.crop((left, top, right, bottom))\n",
    "        image = image.resize((size, size))  # resize non-square images\n",
    "        image.save(os.path.join(output_folder, file))\n",
    "\n",
    "folder_name = '/home/tiger/project/dataset/coco/subset'\n",
    "output_folder = '/home/tiger/project/dataset/coco/subset_cropped'\n",
    "center_crop_images(folder_name, output_folder, 320)"
   ]
  },
  {
   "cell_type": "markdown",
   "metadata": {},
   "source": [
    "# Load subset as dataloader"
   ]
  },
  {
   "cell_type": "code",
   "execution_count": 5,
   "metadata": {},
   "outputs": [],
   "source": [
    "# load the subset\n",
    "from torch.utils.data import Dataset, DataLoader\n",
    "import pandas as pd \n",
    "\n",
    "class COCOCaptionSubset(Dataset):\n",
    "    def __init__(self, path, transform=None):\n",
    "        self.df = pd.read_parquet(path)\n",
    "\n",
    "    def __len__(self):\n",
    "        return len(self.df)\n",
    "\n",
    "    def __getitem__(self, idx):\n",
    "        row = self.df.iloc[idx]\n",
    "        return row['file_name'], row['caption']\n",
    "\n",
    "# testing \n",
    "coco_path = '/home/tiger/project/dataset/coco'\n",
    "coco_cache_file = f'{coco_path}/subset.parquet'     # sampled subsets\n",
    "cocosubset = COCOCaptionSubset(coco_cache_file)\n",
    "cocosubsetloader = DataLoader(cocosubset, batch_size=64, shuffle=False, num_workers=8)\n"
   ]
  },
  {
   "cell_type": "code",
   "execution_count": null,
   "metadata": {},
   "outputs": [],
   "source": []
  },
  {
   "cell_type": "markdown",
   "metadata": {},
   "source": [
    "# Generating Images Via T2I Model"
   ]
  },
  {
   "cell_type": "code",
   "execution_count": null,
   "metadata": {},
   "outputs": [],
   "source": [
    "# demo inference, use coco_sample_generator.py to generate more\n",
    "# load the t2i model\n",
    "# from diffusers import StableDiffusionPipeline\n",
    "# stable_diffusion = StableDiffusionPipeline.from_pretrained(\"/home/tiger/project/pretrained_models/stable-diffusion-v1-4\").to('cuda')   \n",
    "\n",
    "# sample_step = 20\n",
    "# guidance_scale = 1.5\n",
    "\n",
    "# import os\n",
    "\n",
    "# output_path = f'./output_gs{guidance_scale}_ss{sample_step}'\n",
    "# os.makedirs(output_path, exist_ok=True)\n",
    "\n",
    "# for i, (image_paths, captions) in enumerate(cocosubsetloader):\n",
    "#     outputs = stable_diffusion(list(captions), num_inference_steps=sample_step, guidance_scale=guidance_scale).images\n",
    "#     for j, image_path in enumerate(image_paths):\n",
    "#         image_path = image_path.replace('/', '_')\n",
    "#         image_path = os.path.join(output_path, image_path)\n",
    "#         outputs[j].save(image_path)\n",
    "#     break"
   ]
  },
  {
   "cell_type": "markdown",
   "metadata": {},
   "source": []
  },
  {
   "cell_type": "code",
   "execution_count": 1,
   "metadata": {},
   "outputs": [],
   "source": [
    "import torch\n",
    "device = torch.device('cuda')\n",
    "\n",
    "coco_subset_crop_path = '/home/tiger/project/dataset/coco/subset_cropped'\n",
    "output_root = '/home/tiger/project/position-guided-t2i/output'\n",
    "output_paths = [os.path.join(output_root, out) for out in sorted(os.listdir(output_root))]\n"
   ]
  },
  {
   "cell_type": "code",
   "execution_count": 2,
   "metadata": {},
   "outputs": [
    {
     "name": "stderr",
     "output_type": "stream",
     "text": [
      "/home/tiger/anaconda3/lib/python3.9/site-packages/torchvision/models/_utils.py:208: UserWarning: The parameter 'pretrained' is deprecated since 0.13 and will be removed in 0.15, please use 'weights' instead.\n",
      "  warnings.warn(\n",
      "/home/tiger/anaconda3/lib/python3.9/site-packages/torchvision/models/_utils.py:223: UserWarning: Arguments other than a weight enum or `None` for 'weights' are deprecated since 0.13 and will be removed in 0.15. The current behavior is equivalent to passing `weights=None`.\n",
      "  warnings.warn(msg)\n",
      "100%|██████████| 50/50 [00:13<00:00,  3.58it/s]\n",
      "100%|██████████| 50/50 [00:16<00:00,  3.06it/s]\n"
     ]
    },
    {
     "name": "stdout",
     "output_type": "stream",
     "text": [
      "/home/tiger/project/position-guided-t2i/output/gs1.5_ss20 22.765903388613765\n"
     ]
    },
    {
     "name": "stderr",
     "output_type": "stream",
     "text": [
      "100%|██████████| 50/50 [00:09<00:00,  5.50it/s]\n",
      "100%|██████████| 50/50 [00:16<00:00,  3.03it/s]\n"
     ]
    },
    {
     "name": "stdout",
     "output_type": "stream",
     "text": [
      "/home/tiger/project/position-guided-t2i/output/gs2.0_ss20 18.159921113816665\n"
     ]
    },
    {
     "name": "stderr",
     "output_type": "stream",
     "text": [
      "100%|██████████| 50/50 [00:10<00:00,  4.95it/s]\n",
      "100%|██████████| 50/50 [00:15<00:00,  3.14it/s]\n"
     ]
    },
    {
     "name": "stdout",
     "output_type": "stream",
     "text": [
      "/home/tiger/project/position-guided-t2i/output/gs3.0_ss20 15.94397287378655\n"
     ]
    },
    {
     "name": "stderr",
     "output_type": "stream",
     "text": [
      "100%|██████████| 50/50 [00:09<00:00,  5.18it/s]\n",
      "100%|██████████| 50/50 [00:15<00:00,  3.14it/s]\n"
     ]
    },
    {
     "name": "stdout",
     "output_type": "stream",
     "text": [
      "/home/tiger/project/position-guided-t2i/output/gs4.0_ss20 16.315106185605657\n"
     ]
    },
    {
     "name": "stderr",
     "output_type": "stream",
     "text": [
      "100%|██████████| 50/50 [00:09<00:00,  5.17it/s]\n",
      "100%|██████████| 50/50 [00:16<00:00,  3.00it/s]\n"
     ]
    },
    {
     "name": "stdout",
     "output_type": "stream",
     "text": [
      "/home/tiger/project/position-guided-t2i/output/gs5.0_ss20 17.35088805364785\n"
     ]
    },
    {
     "name": "stderr",
     "output_type": "stream",
     "text": [
      "100%|██████████| 50/50 [00:09<00:00,  5.15it/s]\n",
      "100%|██████████| 50/50 [00:16<00:00,  3.01it/s]\n"
     ]
    },
    {
     "name": "stdout",
     "output_type": "stream",
     "text": [
      "/home/tiger/project/position-guided-t2i/output/gs6.0_ss20 17.933771904354728\n"
     ]
    },
    {
     "name": "stderr",
     "output_type": "stream",
     "text": [
      "100%|██████████| 50/50 [00:09<00:00,  5.21it/s]\n",
      "100%|██████████| 50/50 [00:16<00:00,  3.06it/s]\n"
     ]
    },
    {
     "name": "stdout",
     "output_type": "stream",
     "text": [
      "/home/tiger/project/position-guided-t2i/output/gs7.0_ss20 19.059673548019532\n"
     ]
    },
    {
     "name": "stderr",
     "output_type": "stream",
     "text": [
      "100%|██████████| 50/50 [00:09<00:00,  5.18it/s]\n",
      "100%|██████████| 50/50 [00:17<00:00,  2.90it/s]\n"
     ]
    },
    {
     "name": "stdout",
     "output_type": "stream",
     "text": [
      "/home/tiger/project/position-guided-t2i/output/gs8.0_ss20 20.12984543749127\n"
     ]
    }
   ],
   "source": [
    "# fid score\n",
    "\n",
    "# !pip install pytorch_fid\n",
    "# !python -m pytorch_fid /home/tiger/project/dataset/coco/subset_cropped /home/tiger/project/position-guided-t2i/output/gs2.0_ss20\n",
    "\n",
    "from pytorch_fid.fid_score import calculate_fid_given_paths\n",
    "\n",
    "fids = []\n",
    "for output_path in output_paths:\n",
    "    fid_value = calculate_fid_given_paths([coco_subset_crop_path, output_path], batch_size=200, device=device, dims=2048, num_workers=8)\n",
    "    fids.append(fid_value)\n",
    "    print(output_path, fid_value)"
   ]
  },
  {
   "cell_type": "code",
   "execution_count": 3,
   "metadata": {},
   "outputs": [],
   "source": [
    "from transformers import CLIPProcessor, CLIPModel, CLIPTokenizer\n",
    "from PIL import Image\n",
    "import numpy as np\n",
    "from tqdm import tqdm\n",
    "\n",
    "\n",
    "def load_clip_model(model_path='openai/clip-vit-large-patch14'):\n",
    "    # text_encoder = BertModel.from_pretrained(model_path).eval().cuda()\n",
    "    # text_tokenizer = BertTokenizer.from_pretrained(model_path)\n",
    "    clip_model = CLIPModel.from_pretrained(model_path)\n",
    "    processor = CLIPProcessor.from_pretrained(model_path)\n",
    "    tokenizer = CLIPTokenizer.from_pretrained(model_path)\n",
    "\n",
    "    clip_model = clip_model.eval().cuda()\n",
    "    return clip_model, processor, tokenizer\n",
    "\n",
    "\n",
    "def clip_score(clip_model, processor, tokenizer, dataloader, output_image_path):\n",
    "    all_image_features = []\n",
    "    all_text_features = []\n",
    "    for (i, (image_paths, captions)) in enumerate(tqdm(dataloader)):\n",
    "        # print(image_paths, captions)\n",
    "        text_inputs = tokenizer(list(captions), padding=True, return_tensors=\"pt\").to('cuda')\n",
    "        text_features = clip_model.get_text_features(**text_inputs)\n",
    "        text_features = text_features / text_features.norm(dim=-1, keepdim=True)\n",
    "        text_features = text_features.detach().cpu().numpy()\n",
    "        all_text_features.append(text_features)\n",
    "\n",
    "        # vit 速度比较龟\n",
    "        images = [Image.open(os.path.join( output_image_path , image_path)) for image_path in image_paths]\n",
    "        image_inputs = processor(images = images, return_tensors=\"pt\").to('cuda')\n",
    "        image_features = clip_model.get_image_features(**image_inputs)\n",
    "        image_features = image_features / image_features.norm(dim=-1, keepdim=True)\n",
    "        image_features = image_features.detach().cpu().numpy()\n",
    "        all_image_features.append(image_features)\n",
    "\n",
    "        # NOTE testing 等太久了，抽样吧... 需要全部的话，把这个 if 去掉\n",
    "        if i == 10:\n",
    "            break\n",
    "\n",
    "    all_text_features = np.concatenate(all_text_features, axis=0)\n",
    "    all_image_features = np.concatenate(all_image_features, axis=0)\n",
    "    mean_similarity = (all_image_features @ all_text_features.T).diagonal().mean()\n",
    "    return mean_similarity\n"
   ]
  },
  {
   "cell_type": "code",
   "execution_count": 6,
   "metadata": {},
   "outputs": [
    {
     "name": "stderr",
     "output_type": "stream",
     "text": [
      "  6%|▋         | 10/157 [00:15<03:45,  1.54s/it]\n"
     ]
    },
    {
     "name": "stdout",
     "output_type": "stream",
     "text": [
      "/home/tiger/project/position-guided-t2i/output/gs1.5_ss20 0.23490335\n"
     ]
    },
    {
     "name": "stderr",
     "output_type": "stream",
     "text": [
      "  6%|▋         | 10/157 [00:14<03:39,  1.50s/it]\n"
     ]
    },
    {
     "name": "stdout",
     "output_type": "stream",
     "text": [
      "/home/tiger/project/position-guided-t2i/output/gs2.0_ss20 0.24406949\n"
     ]
    },
    {
     "name": "stderr",
     "output_type": "stream",
     "text": [
      "  6%|▋         | 10/157 [00:15<03:41,  1.51s/it]\n"
     ]
    },
    {
     "name": "stdout",
     "output_type": "stream",
     "text": [
      "/home/tiger/project/position-guided-t2i/output/gs3.0_ss20 0.25112092\n"
     ]
    },
    {
     "name": "stderr",
     "output_type": "stream",
     "text": [
      "  6%|▋         | 10/157 [00:14<03:39,  1.49s/it]\n"
     ]
    },
    {
     "name": "stdout",
     "output_type": "stream",
     "text": [
      "/home/tiger/project/position-guided-t2i/output/gs4.0_ss20 0.25709876\n"
     ]
    },
    {
     "name": "stderr",
     "output_type": "stream",
     "text": [
      "  6%|▋         | 10/157 [00:14<03:37,  1.48s/it]\n"
     ]
    },
    {
     "name": "stdout",
     "output_type": "stream",
     "text": [
      "/home/tiger/project/position-guided-t2i/output/gs5.0_ss20 0.25781947\n"
     ]
    },
    {
     "name": "stderr",
     "output_type": "stream",
     "text": [
      "  6%|▋         | 10/157 [00:14<03:40,  1.50s/it]\n"
     ]
    },
    {
     "name": "stdout",
     "output_type": "stream",
     "text": [
      "/home/tiger/project/position-guided-t2i/output/gs6.0_ss20 0.2593051\n"
     ]
    },
    {
     "name": "stderr",
     "output_type": "stream",
     "text": [
      "  6%|▋         | 10/157 [00:14<03:37,  1.48s/it]\n"
     ]
    },
    {
     "name": "stdout",
     "output_type": "stream",
     "text": [
      "/home/tiger/project/position-guided-t2i/output/gs7.0_ss20 0.26007786\n"
     ]
    },
    {
     "name": "stderr",
     "output_type": "stream",
     "text": [
      "  6%|▋         | 10/157 [00:14<03:37,  1.48s/it]"
     ]
    },
    {
     "name": "stdout",
     "output_type": "stream",
     "text": [
      "/home/tiger/project/position-guided-t2i/output/gs8.0_ss20 0.2596085\n"
     ]
    },
    {
     "name": "stderr",
     "output_type": "stream",
     "text": [
      "\n"
     ]
    }
   ],
   "source": [
    "clip_model_path=\"/home/tiger/project/pretrained_models/clip-vit-large-patch14\"\n",
    "clip_model, processor, tokenizer = load_clip_model(clip_model_path)\n",
    "clip_scores = []\n",
    "for output_path in output_paths:\n",
    "    clip_score_each = clip_score(clip_model, processor, tokenizer, cocosubsetloader, output_path)   # 3min ....\n",
    "    print(output_path, clip_score_each)\n",
    "    clip_scores.append(clip_score_each)"
   ]
  },
  {
   "cell_type": "code",
   "execution_count": 7,
   "metadata": {},
   "outputs": [
    {
     "data": {
      "image/png": "[encoded data removed]",
      "text/plain": [
       "<Figure size 640x480 with 1 Axes>"
      ]
     },
     "metadata": {},
     "output_type": "display_data"
    }
   ],
   "source": [
    "# plot clip score as x-axis, fid score as y-axis, line chart\n",
    "import matplotlib.pyplot as plt\n",
    "plt.plot(clip_scores, fids, 'o-')\n",
    "plt.xlabel('clip score')\n",
    "plt.ylabel('fid score')\n",
    "plt.show()"
   ]
  }
 ],
 "metadata": {
  "kernelspec": {
   "display_name": "Python 3.9.13 ('base')",
   "language": "python",
   "name": "python3"
  },
  "language_info": {
   "codemirror_mode": {
    "name": "ipython",
    "version": 3
   },
   "file_extension": ".py",
   "mimetype": "text/x-python",
   "name": "python",
   "nbconvert_exporter": "python",
   "pygments_lexer": "ipython3",
   "version": "3.9.13"
  },
  "orig_nbformat": 4,
  "vscode": {
   "interpreter": {
    "hash": "4cc247672a8bfe61dc951074f9ca89ab002dc0f7e14586a8bb0828228bebeefa"
   }
  }
 },
 "nbformat": 4,
 "nbformat_minor": 2
}
