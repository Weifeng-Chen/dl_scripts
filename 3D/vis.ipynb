{
 "cells": [
  {
   "cell_type": "code",
   "execution_count": null,
   "metadata": {},
   "outputs": [],
   "source": [
    "import  open3d as o3d\n",
    "import numpy as np\n",
    "import torch\n",
    "import os\n",
    "from open3d.web_visualizer import draw\n",
    "\n",
    "print(\"Load a ply point cloud, print it, and render it\")\n",
    "ply_point_cloud = o3d.data.PLYPointCloud()\n",
    "print(ply_point_cloud.path)\n",
    "pcd = o3d.io.read_point_cloud(ply_point_cloud.path)\n",
    "print(pcd)\n",
    "print(np.asarray(pcd.points).shape)\n",
    "draw(pcd)"
   ]
  },
  {
   "cell_type": "code",
   "execution_count": null,
   "metadata": {},
   "outputs": [],
   "source": [
    "import h5py\n",
    "path = '/cognitive_comp/chenweifeng/project/PointCloud/diffusion-point-cloud/data/shapenet.hdf5'\n",
    "with h5py.File(path, 'r') as f:\n",
    "    pointclouds = []\n",
    "    for split in ('train', 'val', 'test'):\n",
    "        pointclouds.append(f['02958343'][split][...])\n",
    "print(pointclouds[0].shape, pointclouds[1].shape, pointclouds[2].shape) # train, val, test\n",
    "points = pointclouds[1][0]\n",
    "print(points.shape)\n",
    "\n",
    "synsetid_to_cate = {\n",
    "    '02691156': 'airplane', '02773838': 'bag', '02801938': 'basket',\n",
    "    '02808440': 'bathtub', '02818832': 'bed', '02828884': 'bench',\n",
    "    '02876657': 'bottle', '02880940': 'bowl', '02924116': 'bus',\n",
    "    '02933112': 'cabinet', '02747177': 'can', '02942699': 'camera',\n",
    "    '02954340': 'cap', '02958343': 'car', '03001627': 'chair',\n",
    "    '03046257': 'clock', '03207941': 'dishwasher', '03211117': 'monitor',\n",
    "    '04379243': 'table', '04401088': 'telephone', '02946921': 'tin_can',\n",
    "    '04460130': 'tower', '04468005': 'train', '03085013': 'keyboard',\n",
    "    '03261776': 'earphone', '03325088': 'faucet', '03337140': 'file',\n",
    "    '03467517': 'guitar', '03513137': 'helmet', '03593526': 'jar',\n",
    "    '03624134': 'knife', '03636649': 'lamp', '03642806': 'laptop',\n",
    "    '03691459': 'speaker', '03710193': 'mailbox', '03759954': 'microphone',\n",
    "    '03761084': 'microwave', '03790512': 'motorcycle', '03797390': 'mug',\n",
    "    '03928116': 'piano', '03938244': 'pillow', '03948459': 'pistol',\n",
    "    '03991062': 'pot', '04004475': 'printer', '04074963': 'remote_control',\n",
    "    '04090263': 'rifle', '04099429': 'rocket', '04225987': 'skateboard',\n",
    "    '04256520': 'sofa', '04330267': 'stove', '04530566': 'vessel',\n",
    "    '04554684': 'washer', '02992529': 'cellphone',\n",
    "    '02843684': 'birdhouse', '02871439': 'bookshelf',\n",
    "    # '02858304': 'boat', no boat in our dataset, merged into vessels\n",
    "    # '02834778': 'bicycle', not in our taxonomy\n",
    "}"
   ]
  },
  {
   "cell_type": "code",
   "execution_count": null,
   "metadata": {},
   "outputs": [],
   "source": [
    "pcd = o3d.geometry.PointCloud()\n",
    "pcd.points = o3d.utility.Vector3dVector(points)\n",
    "pcd.paint_uniform_color([0, 0, 1])\n",
    "draw(pcd, width=800, height=600)"
   ]
  },
  {
   "cell_type": "code",
   "execution_count": null,
   "metadata": {},
   "outputs": [],
   "source": [
    "import trimesh\n",
    "\n",
    "pcd.estimate_normals()\n",
    "distances = pcd.compute_nearest_neighbor_distance()\n",
    "avg_dist = np.mean(distances)\n",
    "radius = 1.5 * avg_dist \n",
    "mesh = o3d.geometry.TriangleMesh.create_from_point_cloud_ball_pivoting(\n",
    "           pcd,\n",
    "           o3d.utility.DoubleVector([radius, radius * 2]))\n",
    "\n",
    "# create the triangular mesh with the vertices and faces from open3d\n",
    "# tri_mesh = trimesh.Trimesh(np.asarray(mesh.vertices), np.asarray(mesh.triangles),\n",
    "#                           vertex_normals=np.asarray(mesh.vertex_normals))\n",
    "\n",
    "# trimesh.convex.is_convex(tri_mesh)\n",
    "\n",
    "draw(mesh, width=800, height=600)"
   ]
  }
 ],
 "metadata": {
  "kernelspec": {
   "display_name": "Python 3.9.7 ('ldm')",
   "language": "python",
   "name": "python3"
  },
  "language_info": {
   "codemirror_mode": {
    "name": "ipython",
    "version": 3
   },
   "file_extension": ".py",
   "mimetype": "text/x-python",
   "name": "python",
   "nbconvert_exporter": "python",
   "pygments_lexer": "ipython3",
   "version": "3.9.7"
  },
  "orig_nbformat": 4,
  "vscode": {
   "interpreter": {
    "hash": "f118082e6cba101b1173a601d4fa989e7255aa6236e39b2f363773e471dcdbb1"
   }
  }
 },
 "nbformat": 4,
 "nbformat_minor": 2
}
