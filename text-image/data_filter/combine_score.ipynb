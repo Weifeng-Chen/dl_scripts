{
 "cells": [
  {
   "cell_type": "markdown",
   "metadata": {},
   "source": [
    "# wukong "
   ]
  },
  {
   "cell_type": "code",
   "execution_count": null,
   "metadata": {},
   "outputs": [],
   "source": [
    "input_filename = '/cognitive_comp/chenweifeng/project/dataset/wukong/release'\n",
    "input_root = '/cognitive_comp/chenweifeng/project/dataset/wukong/images'\n",
    "\n",
    "all_releases = os.listdir(input_filename)\n",
    "all_csvs = []\n",
    "for each in all_releases:\n",
    "    if 'score' in each and 'watermark' not in each:\n",
    "        all_csvs.append(each)\n",
    "all_csvs = sorted(all_csvs)"
   ]
  },
  {
   "cell_type": "code",
   "execution_count": null,
   "metadata": {},
   "outputs": [],
   "source": [
    "import pandas as pd\n",
    "from tqdm import tqdm\n",
    "from concurrent.futures import ProcessPoolExecutor\n",
    "\n",
    "p = ProcessPoolExecutor(max_workers=24)\n",
    "\n",
    "def combine_csv(each_csv_path, water_mark_csv_path):\n",
    "    # NOTE 读取csv\n",
    "    df = pd.read_csv(each_csv_path)\n",
    "    df_watermark = pd.read_csv(water_mark_csv_path)\n",
    "    df['watermark_score'] = df_watermark['watermark_score']\n",
    "    df.to_csv(each_csv_path, index=False)\n",
    "    print(each_csv_path, 'done')\n",
    "    \n",
    "for i in tqdm(range(len(all_csvs))):\n",
    "    # 分成4part\n",
    "    each_csv_path = os.path.join(input_filename, all_csvs[i])\n",
    "    water_mark_csv_path = os.path.join(input_filename, all_csvs[i].replace('score', 'watermark_score'))\n",
    "    \n",
    "    p.submit(combine_csv, each_csv_path, water_mark_csv_path)\n",
    "p.shutdown()"
   ]
  },
  {
   "cell_type": "markdown",
   "metadata": {},
   "source": [
    "# zero"
   ]
  },
  {
   "cell_type": "code",
   "execution_count": null,
   "metadata": {},
   "outputs": [],
   "source": [
    "root_path = \"/cognitive_comp/chenweifeng/zero23m_cwf\"\n",
    "all_folders = sorted(os.listdir(root_path))\n",
    "p = ProcessPoolExecutor(max_workers=24)\n",
    "\n",
    "for i in tqdm(range(len(all_folders))):\n",
    "    each_csv_path = os.path.join(root_path, all_folders[i], 'score.csv')\n",
    "    water_mark_csv_path = os.path.join(root_path, all_folders[i], 'watermark_score.csv')\n",
    "    \n",
    "    p.submit(combine_csv, each_csv_path, water_mark_csv_path)\n",
    "p.shutdown()"
   ]
  },
  {
   "cell_type": "markdown",
   "metadata": {},
   "source": []
  }
 ],
 "metadata": {
  "kernelspec": {
   "display_name": "Python 3.6.9 64-bit",
   "language": "python",
   "name": "python3"
  },
  "language_info": {
   "codemirror_mode": {
    "name": "ipython",
    "version": 3
   },
   "file_extension": ".py",
   "mimetype": "text/x-python",
   "name": "python",
   "nbconvert_exporter": "python",
   "pygments_lexer": "ipython3",
   "version": "3.6.9"
  },
  "orig_nbformat": 4,
  "vscode": {
   "interpreter": {
    "hash": "31f2aee4e71d21fbe5cf8b01ff0e069b9275f58929596ceb00d14d90e3e16cd6"
   }
  }
 },
 "nbformat": 4,
 "nbformat_minor": 2
}
